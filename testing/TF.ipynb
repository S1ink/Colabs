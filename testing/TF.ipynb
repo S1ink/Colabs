{
  "nbformat": 4,
  "nbformat_minor": 0,
  "metadata": {
    "colab": {
      "provenance": [],
      "collapsed_sections": [
        "ucxavbirtuUN",
        "Rccb-jOZtnu1"
      ],
      "gpuType": "T4",
      "authorship_tag": "ABX9TyOFEZRK+AJDgqjvY+2YK/s8",
      "include_colab_link": true
    },
    "kernelspec": {
      "name": "python3",
      "display_name": "Python 3"
    },
    "language_info": {
      "name": "python"
    },
    "accelerator": "GPU"
  },
  "cells": [
    {
      "cell_type": "markdown",
      "metadata": {
        "id": "view-in-github",
        "colab_type": "text"
      },
      "source": [
        "<a href=\"https://colab.research.google.com/github/S1ink/Colabs/blob/main/testing/TF.ipynb\" target=\"_parent\"><img src=\"https://colab.research.google.com/assets/colab-badge.svg\" alt=\"Open In Colab\"/></a>"
      ]
    },
    {
      "cell_type": "markdown",
      "source": [
        "#**Tensors**"
      ],
      "metadata": {
        "id": "ucxavbirtuUN"
      }
    },
    {
      "cell_type": "code",
      "execution_count": 9,
      "metadata": {
        "colab": {
          "base_uri": "https://localhost:8080/",
          "height": 0
        },
        "id": "F_rJl4HYdu8W",
        "outputId": "d89562c8-798e-48a1-b0df-a58d37aff079"
      },
      "outputs": [
        {
          "output_type": "stream",
          "name": "stdout",
          "text": [
            "tf.Tensor(\n",
            "[[1. 2. 3.]\n",
            " [4. 5. 6.]], shape=(2, 3), dtype=float32)\n",
            "(2, 3)\n",
            "<dtype: 'float32'>\n"
          ]
        }
      ],
      "source": [
        "import tensorflow as tf\n",
        "import numpy as np\n",
        "\n",
        "x = tf.constant(\n",
        "    [\n",
        "        [1., 2, 3],\n",
        "        [4, 5, 6]\n",
        "    ]\n",
        ")\n",
        "\n",
        "print(x)\n",
        "print(x.shape)\n",
        "print(x.dtype)"
      ]
    },
    {
      "cell_type": "code",
      "source": [
        "print(x + x)\n",
        "print(5 * x)\n",
        "print(x @ tf.transpose(x))\n",
        "print(tf.concat([x, x, x], axis=0))\n",
        "print(tf.nn.softmax(x, axis = -1))\n",
        "print(tf.reduce_sum(x))"
      ],
      "metadata": {
        "colab": {
          "base_uri": "https://localhost:8080/",
          "height": 0
        },
        "id": "jqlB99GCfMyq",
        "outputId": "0173b62b-7324-4e95-dd86-ec8548c50177"
      },
      "execution_count": 6,
      "outputs": [
        {
          "output_type": "stream",
          "name": "stdout",
          "text": [
            "tf.Tensor(\n",
            "[[ 2.  4.  6.]\n",
            " [ 8. 10. 12.]], shape=(2, 3), dtype=float32)\n",
            "tf.Tensor(\n",
            "[[ 5. 10. 15.]\n",
            " [20. 25. 30.]], shape=(2, 3), dtype=float32)\n",
            "tf.Tensor(\n",
            "[[14. 32.]\n",
            " [32. 77.]], shape=(2, 2), dtype=float32)\n",
            "tf.Tensor(\n",
            "[[1. 2. 3.]\n",
            " [4. 5. 6.]\n",
            " [1. 2. 3.]\n",
            " [4. 5. 6.]\n",
            " [1. 2. 3.]\n",
            " [4. 5. 6.]], shape=(6, 3), dtype=float32)\n",
            "tf.Tensor(\n",
            "[[0.09003057 0.24472848 0.66524094]\n",
            " [0.09003057 0.24472848 0.66524094]], shape=(2, 3), dtype=float32)\n",
            "tf.Tensor(21.0, shape=(), dtype=float32)\n"
          ]
        }
      ]
    },
    {
      "cell_type": "code",
      "source": [
        "a = [1, 2, 3]\n",
        "print(a)\n",
        "print(tf.convert_to_tensor(a))\n",
        "print(tf.reduce_sum(a))"
      ],
      "metadata": {
        "colab": {
          "base_uri": "https://localhost:8080/",
          "height": 0
        },
        "id": "CSEbq8D8f-78",
        "outputId": "96f8dcea-fb37-425d-dfb4-a976de6ae34d"
      },
      "execution_count": 8,
      "outputs": [
        {
          "output_type": "stream",
          "name": "stdout",
          "text": [
            "[1, 2, 3]\n",
            "tf.Tensor([1 2 3], shape=(3,), dtype=int32)\n",
            "tf.Tensor(6, shape=(), dtype=int32)\n"
          ]
        }
      ]
    },
    {
      "cell_type": "code",
      "source": [
        "print(tf.config.list_physical_devices('GPU'))"
      ],
      "metadata": {
        "colab": {
          "base_uri": "https://localhost:8080/",
          "height": 0
        },
        "id": "yzTozIwlgRX7",
        "outputId": "e0951b67-24dc-4438-f48f-87cf18f28141"
      },
      "execution_count": 2,
      "outputs": [
        {
          "output_type": "stream",
          "name": "stdout",
          "text": [
            "[PhysicalDevice(name='/physical_device:GPU:0', device_type='GPU')]\n"
          ]
        }
      ]
    },
    {
      "cell_type": "code",
      "source": [
        "r1 = tf.constant(4)\n",
        "print(r1)\n",
        "\n",
        "r2 = tf.constant([2, 3, 4], dtype=tf.float64)\n",
        "print(r2)\n",
        "\n",
        "r3 = tf.constant(\n",
        "    [\n",
        "        [1, 2, 3, 0],\n",
        "        [6., 7., 8., 5.89808]\n",
        "    ]\n",
        ")\n",
        "print(r3)\n",
        "\n",
        "print(np.array(r3) == r3.numpy())\n",
        "\n",
        "print(tf.add(r2, [3, 4, 9]))\n",
        "print(tf.matmul([[1], [2], [3]], [[1, 2, 3]]))\n",
        "\n",
        "print(tf.math.argmax(r3[0]))\n",
        "print(tf.reduce_max(r2))\n",
        "\n",
        "print(r3.shape)"
      ],
      "metadata": {
        "colab": {
          "base_uri": "https://localhost:8080/",
          "height": 0
        },
        "id": "mZBYbgK5jfEH",
        "outputId": "9508ba60-250c-4be1-c73e-86ff105c78a7"
      },
      "execution_count": 29,
      "outputs": [
        {
          "output_type": "stream",
          "name": "stdout",
          "text": [
            "tf.Tensor(4, shape=(), dtype=int32)\n",
            "tf.Tensor([2. 3. 4.], shape=(3,), dtype=float64)\n",
            "tf.Tensor(\n",
            "[[1.      2.      3.      0.     ]\n",
            " [6.      7.      8.      5.89808]], shape=(2, 4), dtype=float32)\n",
            "[[ True  True  True  True]\n",
            " [ True  True  True  True]]\n",
            "tf.Tensor([ 5.  7. 13.], shape=(3,), dtype=float64)\n",
            "tf.Tensor(\n",
            "[[1 2 3]\n",
            " [2 4 6]\n",
            " [3 6 9]], shape=(3, 3), dtype=int32)\n",
            "tf.Tensor(2, shape=(), dtype=int64)\n",
            "tf.Tensor(4.0, shape=(), dtype=float64)\n",
            "(2, 4)\n"
          ]
        }
      ]
    },
    {
      "cell_type": "code",
      "source": [
        "rank_1_tensor = tf.constant([0, 1, 1, 2, 3, 5, 8, 13, 21, 34])\n",
        "print(rank_1_tensor.numpy())\n",
        "\n",
        "print(\"First:\", rank_1_tensor[0].numpy())\n",
        "print(\"Second:\", rank_1_tensor[1].numpy())\n",
        "print(\"Last:\", rank_1_tensor[-1].numpy())\n",
        "\n",
        "print(\"Everything:\", rank_1_tensor[:].numpy())\n",
        "print(\"Before 4:\", rank_1_tensor[:4].numpy())\n",
        "print(\"From 4 to the end:\", rank_1_tensor[4:].numpy())\n",
        "print(\"From 2, before 7:\", rank_1_tensor[2:7].numpy())\n",
        "print(\"Every other item:\", rank_1_tensor[::2].numpy())\n",
        "print(\"Reversed:\", rank_1_tensor[::-1].numpy())"
      ],
      "metadata": {
        "colab": {
          "base_uri": "https://localhost:8080/",
          "height": 0
        },
        "id": "puK8fHr4nMiu",
        "outputId": "e8285a1b-4525-432c-af18-696e3895cf96"
      },
      "execution_count": 30,
      "outputs": [
        {
          "output_type": "stream",
          "name": "stdout",
          "text": [
            "[ 0  1  1  2  3  5  8 13 21 34]\n",
            "First: 0\n",
            "Second: 1\n",
            "Last: 34\n",
            "Everything: [ 0  1  1  2  3  5  8 13 21 34]\n",
            "Before 4: [0 1 1 2]\n",
            "From 4 to the end: [ 3  5  8 13 21 34]\n",
            "From 2, before 7: [1 2 3 5 8]\n",
            "Every other item: [ 0  1  3  8 21]\n",
            "Reversed: [34 21 13  8  5  3  2  1  1  0]\n"
          ]
        }
      ]
    },
    {
      "cell_type": "code",
      "source": [
        "rank_2_tensor = tf.constant(\n",
        "    [\n",
        "        [7, 8, 4, 2, 3],\n",
        "        [0, 3, 5, 6, 1],\n",
        "        [7, 6, 5, 1, 3]\n",
        "    ]\n",
        ")\n",
        "\n",
        "print(rank_2_tensor.numpy())\n",
        "\n",
        "# Pull out a single value from a 2-rank tensor\n",
        "print(rank_2_tensor[1, 1].numpy())\n",
        "\n",
        "# Get row and column tensors\n",
        "print(\"Second row:\", rank_2_tensor[1, :].numpy())\n",
        "print(\"Second column:\", rank_2_tensor[:, 1].numpy())\n",
        "print(\"Last row:\", rank_2_tensor[-1, :].numpy())\n",
        "print(\"First item in last column:\", rank_2_tensor[0, -1].numpy())\n",
        "print(\"Skip the first row:\")\n",
        "print(rank_2_tensor[1:, :].numpy(), \"\\n\")\n",
        "\n",
        "print(rank_2_tensor[:, :].numpy())"
      ],
      "metadata": {
        "colab": {
          "base_uri": "https://localhost:8080/",
          "height": 0
        },
        "id": "BNMUMW4jnso-",
        "outputId": "7fe9827e-ef35-452a-9f3a-e25010c55e2e"
      },
      "execution_count": 34,
      "outputs": [
        {
          "output_type": "stream",
          "name": "stdout",
          "text": [
            "[[7 8 4 2 3]\n",
            " [0 3 5 6 1]\n",
            " [7 6 5 1 3]]\n",
            "3\n",
            "Second row: [0 3 5 6 1]\n",
            "Second column: [8 3 6]\n",
            "Last row: [7 6 5 1 3]\n",
            "First item in last column: 3\n",
            "Skip the first row:\n",
            "[[0 3 5 6 1]\n",
            " [7 6 5 1 3]] \n",
            "\n",
            "[[7 8 4 2 3]\n",
            " [0 3 5 6 1]\n",
            " [7 6 5 1 3]]\n"
          ]
        }
      ]
    },
    {
      "cell_type": "code",
      "source": [
        "# Shape returns a `TensorShape` object that shows the size along each axis\n",
        "x = tf.constant([[1], [2], [3]])\n",
        "print(x.shape)\n",
        "\n",
        "# You can convert this object into a Python list, too\n",
        "print(x.shape.as_list())\n",
        "\n",
        "# You can reshape a tensor to a new shape.\n",
        "# Note that you're passing in a list\n",
        "reshaped = tf.reshape(x, [1, 3])\n",
        "print(x.shape)\n",
        "print(reshaped.shape)\n",
        "\n",
        "print(x.numpy())\n",
        "print(reshaped.numpy())\n",
        "\n",
        "def flatten(t):\n",
        "    return tf.reshape(t, [-1])\n",
        "\n",
        "print(flatten(x).numpy())"
      ],
      "metadata": {
        "colab": {
          "base_uri": "https://localhost:8080/"
        },
        "id": "1ZkFxiF9pCpo",
        "outputId": "c0e58e1a-07be-4301-96cf-16ed51075530"
      },
      "execution_count": 42,
      "outputs": [
        {
          "output_type": "stream",
          "name": "stdout",
          "text": [
            "(3, 1)\n",
            "[3, 1]\n",
            "(3, 1)\n",
            "(1, 3)\n",
            "[[1]\n",
            " [2]\n",
            " [3]]\n",
            "[[1 2 3]]\n",
            "[1 2 3]\n"
          ]
        }
      ]
    },
    {
      "cell_type": "code",
      "source": [
        "the_f64_tensor = tf.constant([2.2, 3.3, 4.4], dtype=tf.float64)\n",
        "the_f16_tensor = tf.cast(the_f64_tensor, dtype=tf.float16)\n",
        "# Now, cast to an uint8 and lose the decimal precision\n",
        "the_u8_tensor = tf.cast(the_f16_tensor, dtype=tf.uint8)\n",
        "print(the_u8_tensor)"
      ],
      "metadata": {
        "colab": {
          "base_uri": "https://localhost:8080/"
        },
        "id": "eYRn01v0q1kY",
        "outputId": "9b50d3af-2e89-487e-9ed2-86a10cd503e9"
      },
      "execution_count": 43,
      "outputs": [
        {
          "output_type": "stream",
          "name": "stdout",
          "text": [
            "tf.Tensor([2 3 4], shape=(3,), dtype=uint8)\n"
          ]
        }
      ]
    },
    {
      "cell_type": "code",
      "source": [
        "x = tf.constant([1, 2, 3])\n",
        "\n",
        "y = tf.constant(2)\n",
        "z = tf.constant([2, 2, 2])\n",
        "# All of these are the same computation\n",
        "print(tf.multiply(x, 2))\n",
        "print(x * y)\n",
        "print(x * z)\n",
        "\n",
        "# These are the same computations\n",
        "x = tf.reshape(x,[3,1])\n",
        "y = tf.range(1, 5)\n",
        "print(x, \"\\n\")\n",
        "print(y, \"\\n\")\n",
        "print(tf.multiply(x, y))\n",
        "\n",
        "print(tf.broadcast_to(tf.constant([1, 2, 3]), [3, 3]))"
      ],
      "metadata": {
        "colab": {
          "base_uri": "https://localhost:8080/"
        },
        "id": "tUGqENZ3q4oj",
        "outputId": "5ebf7c55-a676-4641-f290-209392b075ce"
      },
      "execution_count": 46,
      "outputs": [
        {
          "output_type": "stream",
          "name": "stdout",
          "text": [
            "tf.Tensor([2 4 6], shape=(3,), dtype=int32)\n",
            "tf.Tensor([2 4 6], shape=(3,), dtype=int32)\n",
            "tf.Tensor([2 4 6], shape=(3,), dtype=int32)\n",
            "tf.Tensor(\n",
            "[[1]\n",
            " [2]\n",
            " [3]], shape=(3, 1), dtype=int32) \n",
            "\n",
            "tf.Tensor([1 2 3 4], shape=(4,), dtype=int32) \n",
            "\n",
            "tf.Tensor(\n",
            "[[ 1  2  3  4]\n",
            " [ 2  4  6  8]\n",
            " [ 3  6  9 12]], shape=(3, 4), dtype=int32)\n",
            "tf.Tensor(\n",
            "[[1 2 3]\n",
            " [1 2 3]\n",
            " [1 2 3]], shape=(3, 3), dtype=int32)\n"
          ]
        }
      ]
    },
    {
      "cell_type": "code",
      "source": [
        "ragged_list = [\n",
        "    [0, 1, 2, 3],\n",
        "    [4, 5],\n",
        "    [6, 7, 8],\n",
        "    [9]]\n",
        "print(ragged_list)\n",
        "\n",
        "try:\n",
        "  tensor = tf.constant(ragged_list)\n",
        "except Exception as e:\n",
        "  print(f\"{type(e).__name__}: {e}\")\n",
        "\n",
        "ragged_tensor = tf.ragged.constant(ragged_list, dtype=tf.float64)\n",
        "print(ragged_tensor)\n",
        "print(ragged_tensor.shape)"
      ],
      "metadata": {
        "colab": {
          "base_uri": "https://localhost:8080/"
        },
        "id": "DOu2pefVruo3",
        "outputId": "85f3fd7a-62c2-4ff7-9bff-6ae06fb4224e"
      },
      "execution_count": 53,
      "outputs": [
        {
          "output_type": "stream",
          "name": "stdout",
          "text": [
            "[[0, 1, 2, 3], [4, 5], [6, 7, 8], [9]]\n",
            "ValueError: Can't convert non-rectangular Python sequence to Tensor.\n",
            "<tf.RaggedTensor [[0.0, 1.0, 2.0, 3.0], [4.0, 5.0], [6.0, 7.0, 8.0], [9.0]]>\n",
            "(4, None)\n"
          ]
        }
      ]
    },
    {
      "cell_type": "code",
      "source": [
        "sparse_tensor = tf.sparse.SparseTensor(indices=[[0, 0], [1, 2]],\n",
        "                                         values=[1, 2],\n",
        "                                         dense_shape=[3, 4])\n",
        "\n",
        "print(sparse_tensor, \"\\n\")\n",
        "print(tf.sparse.to_dense(sparse_tensor))"
      ],
      "metadata": {
        "colab": {
          "base_uri": "https://localhost:8080/"
        },
        "id": "4viOtXuDs_8Q",
        "outputId": "6d4cf93a-803f-4be6-bdd2-e75206e404d8"
      },
      "execution_count": 55,
      "outputs": [
        {
          "output_type": "stream",
          "name": "stdout",
          "text": [
            "SparseTensor(indices=tf.Tensor(\n",
            "[[0 0]\n",
            " [1 2]], shape=(2, 2), dtype=int64), values=tf.Tensor([1 2], shape=(2,), dtype=int32), dense_shape=tf.Tensor([3 4], shape=(2,), dtype=int64)) \n",
            "\n",
            "tf.Tensor(\n",
            "[[1 0 0 0]\n",
            " [0 0 2 0]\n",
            " [0 0 0 0]], shape=(3, 4), dtype=int32)\n"
          ]
        }
      ]
    },
    {
      "cell_type": "markdown",
      "source": [
        "#**Variables**"
      ],
      "metadata": {
        "id": "Rccb-jOZtnu1"
      }
    },
    {
      "cell_type": "code",
      "source": [
        "import tensorflow as tf\n",
        "import numpy as np\n",
        "\n",
        "tf.debugging.set_log_device_placement(True)"
      ],
      "metadata": {
        "id": "7l3k4n2itsU7"
      },
      "execution_count": 56,
      "outputs": []
    },
    {
      "cell_type": "code",
      "source": [
        "my_tensor = tf.constant([[1, 3], [9, 8]], dtype=tf.float64)\n",
        "my_variable = tf.Variable(my_tensor)\n",
        "\n",
        "bool_variable = tf.Variable([False, True, True, True])\n",
        "complex_variable = tf.Variable([4 + 7j, 6 - 8j])\n",
        "\n",
        "print(my_variable)\n",
        "print(bool_variable)\n",
        "print(complex_variable)"
      ],
      "metadata": {
        "colab": {
          "base_uri": "https://localhost:8080/"
        },
        "id": "uKdl1s-lujSS",
        "outputId": "c1fac508-14df-4e3c-e502-e0d5efab9351"
      },
      "execution_count": 60,
      "outputs": [
        {
          "output_type": "stream",
          "name": "stdout",
          "text": [
            "<tf.Variable 'Variable:0' shape=(2, 2) dtype=float64, numpy=\n",
            "array([[1., 3.],\n",
            "       [9., 8.]])>\n",
            "<tf.Variable 'Variable:0' shape=(4,) dtype=bool, numpy=array([False,  True,  True,  True])>\n",
            "<tf.Variable 'Variable:0' shape=(2,) dtype=complex128, numpy=array([4.+7.j, 6.-8.j])>\n"
          ]
        }
      ]
    },
    {
      "cell_type": "code",
      "source": [
        "a = tf.Variable([])\n",
        "a.assign([1, 2, 3, 4])\n"
      ],
      "metadata": {
        "colab": {
          "base_uri": "https://localhost:8080/",
          "height": 314
        },
        "id": "9H6Qy8UlvbfJ",
        "outputId": "f5107854-80ea-4e20-ce29-fb5e7d6eb5f6"
      },
      "execution_count": 61,
      "outputs": [
        {
          "output_type": "error",
          "ename": "ValueError",
          "evalue": "ignored",
          "traceback": [
            "\u001b[0;31m---------------------------------------------------------------------------\u001b[0m",
            "\u001b[0;31mValueError\u001b[0m                                Traceback (most recent call last)",
            "\u001b[0;32m<ipython-input-61-842061fc772c>\u001b[0m in \u001b[0;36m<cell line: 2>\u001b[0;34m()\u001b[0m\n\u001b[1;32m      1\u001b[0m \u001b[0ma\u001b[0m \u001b[0;34m=\u001b[0m \u001b[0mtf\u001b[0m\u001b[0;34m.\u001b[0m\u001b[0mVariable\u001b[0m\u001b[0;34m(\u001b[0m\u001b[0;34m[\u001b[0m\u001b[0;34m]\u001b[0m\u001b[0;34m)\u001b[0m\u001b[0;34m\u001b[0m\u001b[0;34m\u001b[0m\u001b[0m\n\u001b[0;32m----> 2\u001b[0;31m \u001b[0ma\u001b[0m\u001b[0;34m.\u001b[0m\u001b[0massign\u001b[0m\u001b[0;34m(\u001b[0m\u001b[0;34m[\u001b[0m\u001b[0;36m1\u001b[0m\u001b[0;34m,\u001b[0m \u001b[0;36m2\u001b[0m\u001b[0;34m,\u001b[0m \u001b[0;36m3\u001b[0m\u001b[0;34m,\u001b[0m \u001b[0;36m4\u001b[0m\u001b[0;34m]\u001b[0m\u001b[0;34m)\u001b[0m\u001b[0;34m\u001b[0m\u001b[0;34m\u001b[0m\u001b[0m\n\u001b[0m",
            "\u001b[0;32m/usr/local/lib/python3.10/dist-packages/tensorflow/python/ops/resource_variable_ops.py\u001b[0m in \u001b[0;36massign\u001b[0;34m(self, value, use_locking, name, read_value)\u001b[0m\n\u001b[1;32m   1020\u001b[0m         \u001b[0;32melse\u001b[0m\u001b[0;34m:\u001b[0m\u001b[0;34m\u001b[0m\u001b[0;34m\u001b[0m\u001b[0m\n\u001b[1;32m   1021\u001b[0m           \u001b[0mtensor_name\u001b[0m \u001b[0;34m=\u001b[0m \u001b[0;34m\" \"\u001b[0m \u001b[0;34m+\u001b[0m \u001b[0mstr\u001b[0m\u001b[0;34m(\u001b[0m\u001b[0mself\u001b[0m\u001b[0;34m.\u001b[0m\u001b[0mname\u001b[0m\u001b[0;34m)\u001b[0m\u001b[0;34m\u001b[0m\u001b[0;34m\u001b[0m\u001b[0m\n\u001b[0;32m-> 1022\u001b[0;31m         raise ValueError(\n\u001b[0m\u001b[1;32m   1023\u001b[0m             (f\"Cannot assign value to variable '{tensor_name}': Shape mismatch.\"\n\u001b[1;32m   1024\u001b[0m              \u001b[0;34mf\"The variable shape {self._shape}, and the \"\u001b[0m\u001b[0;34m\u001b[0m\u001b[0;34m\u001b[0m\u001b[0m\n",
            "\u001b[0;31mValueError\u001b[0m: Cannot assign value to variable ' Variable:0': Shape mismatch.The variable shape (0,), and the assigned value shape (4,) are incompatible."
          ]
        }
      ]
    },
    {
      "cell_type": "markdown",
      "source": [
        "#**Gradients and Differentiation**"
      ],
      "metadata": {
        "id": "c6vHk5CF4YWy"
      }
    },
    {
      "cell_type": "code",
      "source": [
        "import tensorflow as tf\n",
        "import numpy as np"
      ],
      "metadata": {
        "id": "pRFpDt7q4dZf"
      },
      "execution_count": 62,
      "outputs": []
    },
    {
      "cell_type": "code",
      "source": [
        "x = tf.Variable(3.0)\n",
        "\n",
        "with tf.GradientTape() as tape:\n",
        "  y = x**2\n",
        "\n",
        "dy_dx = tape.gradient(y, x)\n",
        "print(x, '\\n', y, '\\n', dy_dx.numpy())"
      ],
      "metadata": {
        "colab": {
          "base_uri": "https://localhost:8080/"
        },
        "id": "jtnWPfH04i-c",
        "outputId": "dd58559b-5982-48cb-fbba-337555c3f33b"
      },
      "execution_count": 63,
      "outputs": [
        {
          "output_type": "stream",
          "name": "stdout",
          "text": [
            "<tf.Variable 'Variable:0' shape=() dtype=float32, numpy=3.0> \n",
            " tf.Tensor(9.0, shape=(), dtype=float32) \n",
            " 6.0\n"
          ]
        }
      ]
    },
    {
      "cell_type": "code",
      "source": [
        "w = tf.Variable(tf.random.normal((3, 2), name='w'))\n",
        "b = tf.Variable(tf.zeros(2, dtype=tf.float32), name='b')\n",
        "x = [[2., 5, 6]]\n",
        "\n",
        "with tf.GradientTape(persistent=True) as tape:\n",
        "  y = x @ w + b\n",
        "  loss = tf.reduce_mean(y**2)\n",
        "\n",
        "print(y, \"\\n\", loss)\n",
        "\n",
        "[dl_dw, dl_db] = tape.gradient(loss, [w, b])\n",
        "print(dl_dw, \"\\n\", dl_db)"
      ],
      "metadata": {
        "colab": {
          "base_uri": "https://localhost:8080/"
        },
        "id": "iMkbcavt43F4",
        "outputId": "d654f734-a1c0-48d6-a65c-ec8ddb5041bf"
      },
      "execution_count": 66,
      "outputs": [
        {
          "output_type": "stream",
          "name": "stdout",
          "text": [
            "tf.Tensor([[0.8235357 8.025144 ]], shape=(1, 2), dtype=float32) \n",
            " tf.Tensor(32.54057, shape=(), dtype=float32)\n",
            "tf.Tensor(\n",
            "[[ 1.6470714 16.050287 ]\n",
            " [ 4.1176786 40.125717 ]\n",
            " [ 4.941214  48.150864 ]], shape=(3, 2), dtype=float32) \n",
            " tf.Tensor([0.8235357 8.025144 ], shape=(2,), dtype=float32)\n"
          ]
        }
      ]
    },
    {
      "cell_type": "code",
      "source": [
        "vars = {\n",
        "    'w' : w,\n",
        "    'b' : b\n",
        "}\n",
        "grad = tape.gradient(loss, vars)\n",
        "print(grad['b'])"
      ],
      "metadata": {
        "colab": {
          "base_uri": "https://localhost:8080/"
        },
        "id": "fvh0mh046UPr",
        "outputId": "4627ba56-2746-4a2d-941d-73530aa75e5f"
      },
      "execution_count": 67,
      "outputs": [
        {
          "output_type": "stream",
          "name": "stdout",
          "text": [
            "tf.Tensor([0.8235357 8.025144 ], shape=(2,), dtype=float32)\n"
          ]
        }
      ]
    }
  ]
}